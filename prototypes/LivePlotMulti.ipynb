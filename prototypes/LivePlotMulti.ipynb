{
 "cells": [
  {
   "cell_type": "code",
   "execution_count": null,
   "id": "180ecc58",
   "metadata": {},
   "outputs": [],
   "source": [
    "import time\n",
    "from functools import partial"
   ]
  },
  {
   "cell_type": "code",
   "execution_count": null,
   "id": "74f95136",
   "metadata": {},
   "outputs": [],
   "source": [
    "import panel as pn\n",
    "import numpy as np"
   ]
  },
  {
   "cell_type": "code",
   "execution_count": null,
   "id": "6c4377c1",
   "metadata": {},
   "outputs": [],
   "source": [
    "pn.extension('tabulator', 'jsoneditor', 'terminal')"
   ]
  },
  {
   "cell_type": "code",
   "execution_count": null,
   "id": "1df55fc2",
   "metadata": {},
   "outputs": [],
   "source": [
    "import libertem.api as lt"
   ]
  },
  {
   "cell_type": "code",
   "execution_count": null,
   "id": "6e81bddd",
   "metadata": {},
   "outputs": [],
   "source": [
    "from aperture.udf_ui.live_plot import AperturePlot\n",
    "from aperture.udf_ui.ui_context import UIContext\n",
    "from aperture.udf_ui.load_dataset import LoadDatasetWindow\n",
    "from aperture.utils.notebook_tools import notebook_fullwidth, get_ipyw_reload_button\n",
    "notebook_fullwidth()"
   ]
  },
  {
   "cell_type": "code",
   "execution_count": null,
   "id": "0bc9ecdb",
   "metadata": {},
   "outputs": [],
   "source": [
    "ctx = lt.Context.make_with('inline', plot_class=AperturePlot)\n",
    "frame = np.linspace(0., 1., num=(32*32), endpoint=True).reshape(32, 32)\n",
    "data = np.repeat(frame[np.newaxis, ...], 20 * 60, axis=0)\n",
    "data = data * np.arange(1, (20 * 60 + 1)).reshape(-1, 1, 1)\n",
    "ds = ctx.load('memory', data=data.reshape(20, 60, 32, 32).astype(np.float32))"
   ]
  },
  {
   "cell_type": "code",
   "execution_count": null,
   "id": "f94a1168",
   "metadata": {},
   "outputs": [],
   "source": [
    "ui_context = UIContext().for_offline(ctx, ds)"
   ]
  },
  {
   "cell_type": "code",
   "execution_count": null,
   "id": "b77d1699",
   "metadata": {},
   "outputs": [],
   "source": [
    "ui_context.log_window()"
   ]
  },
  {
   "cell_type": "code",
   "execution_count": null,
   "id": "b670bfc0",
   "metadata": {
    "scrolled": false
   },
   "outputs": [],
   "source": [
    "ui_context.layout()"
   ]
  },
  {
   "cell_type": "code",
   "execution_count": null,
   "id": "a6fa2e77",
   "metadata": {},
   "outputs": [],
   "source": [
    "ui_context.results_manager.layout()"
   ]
  }
 ],
 "metadata": {
  "kernelspec": {
   "display_name": "Python 3 (ipykernel)",
   "language": "python",
   "name": "python3"
  },
  "language_info": {
   "codemirror_mode": {
    "name": "ipython",
    "version": 3
   },
   "file_extension": ".py",
   "mimetype": "text/x-python",
   "name": "python",
   "nbconvert_exporter": "python",
   "pygments_lexer": "ipython3",
   "version": "3.10.11"
  }
 },
 "nbformat": 4,
 "nbformat_minor": 5
}
