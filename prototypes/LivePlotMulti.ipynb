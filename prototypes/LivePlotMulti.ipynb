{
 "cells": [
  {
   "cell_type": "code",
   "execution_count": null,
   "id": "74f95136",
   "metadata": {},
   "outputs": [],
   "source": [
    "import os\n",
    "import pathlib\n",
    "import panel as pn\n",
    "import numpy as np"
   ]
  },
  {
   "cell_type": "code",
   "execution_count": null,
   "id": "6c4377c1",
   "metadata": {
    "scrolled": true
   },
   "outputs": [],
   "source": [
    "pn.extension('tabulator', 'jsoneditor', 'terminal', 'floatpanel')"
   ]
  },
  {
   "cell_type": "code",
   "execution_count": null,
   "id": "6e81bddd",
   "metadata": {},
   "outputs": [],
   "source": [
    "from udfs_ui.components.live_plot import AperturePlot\n",
    "from udfs_ui.components.ui_context import UIContext\n",
    "from udfs_ui.utils.notebook_tools import notebook_fullwidth\n",
    "notebook_fullwidth()"
   ]
  },
  {
   "cell_type": "code",
   "execution_count": null,
   "id": "97941fea",
   "metadata": {},
   "outputs": [],
   "source": [
    "import libertem.api as lt"
   ]
  },
  {
   "cell_type": "code",
   "execution_count": null,
   "id": "cb4209d0",
   "metadata": {},
   "outputs": [],
   "source": [
    "ctx = lt.Context.make_with('inline', plot_class=AperturePlot)"
   ]
  },
  {
   "cell_type": "code",
   "execution_count": null,
   "id": "ae813ac7",
   "metadata": {},
   "outputs": [],
   "source": [
    "frame = np.linspace(0., 1., num=(32*32), endpoint=True).reshape(32, 32)\n",
    "h, w = np.random.choice([20, 60], size=(2,))\n",
    "data = np.random.uniform(size=(h * w, 32, 32)).astype(np.float32)\n",
    "data *= np.linspace(0, h*w, num=h * w, endpoint=True).reshape(-1, 1, 1)\n",
    "data = data.reshape(h, w, 32, 32).astype(np.float32)"
   ]
  },
  {
   "cell_type": "code",
   "execution_count": null,
   "id": "0bc9ecdb",
   "metadata": {},
   "outputs": [],
   "source": [
    "ds = ctx.load('memory', data=data, num_partitions=2)"
   ]
  },
  {
   "cell_type": "code",
   "execution_count": null,
   "id": "2198ce68",
   "metadata": {},
   "outputs": [],
   "source": [
    "ui_context = (\n",
    "    UIContext()\n",
    "    .for_offline(ctx, ds)\n",
    "    .add('virtual_detector')\n",
    "#     .add('frame_imaging')\n",
    "#     .add('lattice_definer')\n",
    ")"
   ]
  },
  {
   "cell_type": "code",
   "execution_count": null,
   "id": "b670bfc0",
   "metadata": {
    "scrolled": false
   },
   "outputs": [],
   "source": [
    "ui_context.layout()"
   ]
  },
  {
   "cell_type": "code",
   "execution_count": null,
   "id": "b3e95c79",
   "metadata": {
    "scrolled": false
   },
   "outputs": [],
   "source": [
    "ui_context.results_manager.layout()"
   ]
  },
  {
   "cell_type": "code",
   "execution_count": null,
   "id": "4c58ed5b",
   "metadata": {},
   "outputs": [],
   "source": [
    "raise"
   ]
  },
  {
   "cell_type": "code",
   "execution_count": null,
   "id": "2320a481",
   "metadata": {},
   "outputs": [],
   "source": [
    "import libertem_live.api as ltl\n",
    "live_ctx = ltl.LiveContext()\n",
    "conn = live_ctx.make_connection('memory').open(\n",
    "   data=data,\n",
    ")\n",
    "aq_getter = lambda l_ctx: l_ctx.make_acquisition(conn=conn)"
   ]
  },
  {
   "cell_type": "code",
   "execution_count": null,
   "id": "1c686d67",
   "metadata": {},
   "outputs": [],
   "source": [
    "_ = tuple(p.unlink() for p in pathlib.Path('.').iterdir() if p.suffix == '.npy')"
   ]
  },
  {
   "cell_type": "code",
   "execution_count": null,
   "id": "c1e3100d",
   "metadata": {},
   "outputs": [],
   "source": [
    "ui_context = (\n",
    "    UIContext()\n",
    "    .for_live(live_ctx, aq_getter, offline_ctx=ctx)\n",
    "    .add('virtual_detector')\n",
    "#     .add('frame_imaging')\n",
    "#     .add('lattice_definer')\n",
    ")"
   ]
  },
  {
   "cell_type": "code",
   "execution_count": null,
   "id": "19a9f4b4",
   "metadata": {},
   "outputs": [],
   "source": [
    "ui_context.layout()"
   ]
  },
  {
   "cell_type": "code",
   "execution_count": null,
   "id": "5122c611",
   "metadata": {},
   "outputs": [],
   "source": [
    "ui_context.results_manager.layout()"
   ]
  }
 ],
 "metadata": {
  "kernelspec": {
   "display_name": "Python 3 (ipykernel)",
   "language": "python",
   "name": "python3"
  },
  "language_info": {
   "codemirror_mode": {
    "name": "ipython",
    "version": 3
   },
   "file_extension": ".py",
   "mimetype": "text/x-python",
   "name": "python",
   "nbconvert_exporter": "python",
   "pygments_lexer": "ipython3",
   "version": "3.10.11"
  }
 },
 "nbformat": 4,
 "nbformat_minor": 5
}
