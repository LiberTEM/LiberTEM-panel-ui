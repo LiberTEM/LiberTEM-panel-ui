{
 "cells": [
  {
   "cell_type": "markdown",
   "id": "d13ee95e-720f-4d55-b487-b142ca7752cd",
   "metadata": {},
   "source": [
    "# Holography Tools prototype\n",
    "\n",
    "Demonstrates the prototype holo tools GUI panels\n",
    "\n",
    "This currently relies on the branch https://github.com/sk1p/LiberTEM-holo/tree/core-reconstr-changes, uncomment to install:"
   ]
  },
  {
   "cell_type": "code",
   "execution_count": null,
   "id": "0579f89f-bb99-4c33-beb4-e73f1e76433f",
   "metadata": {},
   "outputs": [],
   "source": [
    "# !pip -q install -q git+https://github.com/sk1p/LiberTEM-holo.git@core-reconstr-changes"
   ]
  },
  {
   "cell_type": "code",
   "execution_count": null,
   "id": "b504861b-7a1a-467d-9a7b-20679cbcee63",
   "metadata": {},
   "outputs": [],
   "source": [
    "import numpy as np\n",
    "import panel as pn\n",
    "import libertem.api as lt"
   ]
  },
  {
   "cell_type": "code",
   "execution_count": null,
   "id": "1ab883e4-96ab-4d8c-80cc-aa17fcc4ed86",
   "metadata": {},
   "outputs": [],
   "source": [
    "from libertem_ui.ui_context import UIContext\n",
    "from libertem_ui.live_plot import ApertureFigure\n",
    "from libertem_ui.applications.holography.panels import ApertureBuilder, ApertureConfig"
   ]
  },
  {
   "cell_type": "markdown",
   "id": "3fedf988-ab0b-4cb9-81ea-300bc160fe54",
   "metadata": {},
   "source": [
    "## Data\n",
    "\n",
    "Build a fake holo stack from some `skimage` datasets"
   ]
  },
  {
   "cell_type": "code",
   "execution_count": null,
   "id": "d7783a53-9c8c-40c0-89f5-72f10c4c6db3",
   "metadata": {},
   "outputs": [],
   "source": [
    "from libertem_holo.base.generate import hologram_frame\n",
    "from skimage.data import cat, gravel, astronaut\n",
    "from skimage.transform import resize"
   ]
  },
  {
   "cell_type": "code",
   "execution_count": null,
   "id": "035c8c4c-7faf-4cd6-b5b4-0d193c3517b7",
   "metadata": {},
   "outputs": [],
   "source": [
    "shape = (512, 512)\n",
    "angle = np.random.uniform(0, 360)\n",
    "sampling = np.random.uniform(3, 5)\n",
    "frames = []\n",
    "for c in range(4):\n",
    "    amp = resize(cat()[..., 0] / 255, shape)\n",
    "    phase = resize(gravel()[:64, :64] / 255, amp.shape, order=2) * 2 * np.pi - np.pi\n",
    "    for _ in range(c):\n",
    "        phase = np.rot90(phase)\n",
    "    frames.append(hologram_frame(amp, phase, visibility=0.2, sampling=sampling, f_angle=angle))\n",
    "frames = np.asarray(frames).astype(np.float32)"
   ]
  },
  {
   "cell_type": "markdown",
   "id": "3669b0cd-393f-4c67-a965-7cf7ec24c310",
   "metadata": {},
   "source": [
    "Display the generated wave amplituce + phase:"
   ]
  },
  {
   "cell_type": "code",
   "execution_count": null,
   "id": "1a27912d-6f25-42cb-9a71-5298a0b9c967",
   "metadata": {},
   "outputs": [],
   "source": [
    "left = ApertureFigure.new(amp, title=\"amp\")\n",
    "right = ApertureFigure.new(phase, title=\"phase\")\n",
    "pn.Row(left.layout, right.layout)"
   ]
  },
  {
   "cell_type": "markdown",
   "id": "057cadba-21a0-4265-a61e-417ef85bb789",
   "metadata": {},
   "source": [
    "## Context + Dataset + Window\n",
    "\n",
    "At the moment this is only running on a memory dataset, but better LT integration (and abstraction) would be standard)."
   ]
  },
  {
   "cell_type": "code",
   "execution_count": null,
   "id": "230323ae-11f3-4d88-8871-1fe496eb2a0a",
   "metadata": {},
   "outputs": [],
   "source": [
    "ctx = lt.Context.make_with('inline')\n",
    "ds = ctx.load('memory', data=frames)"
   ]
  },
  {
   "cell_type": "markdown",
   "id": "2294dd32-dfdd-4b02-b1c7-c1e4472208c9",
   "metadata": {},
   "source": [
    "The state of the parameters can be extracted and loaded into the window via a `NamedTuple`:"
   ]
  },
  {
   "cell_type": "code",
   "execution_count": null,
   "id": "1ba38ce2-ec4d-4cb4-8a41-f13e1c881f2a",
   "metadata": {},
   "outputs": [],
   "source": [
    "state = ApertureConfig(\n",
    "    sb_pos=(80, 20),\n",
    "    radius=8,\n",
    "    window_size=(32, 32)\n",
    ")"
   ]
  },
  {
   "cell_type": "markdown",
   "id": "d3a927ee-3d6c-4e53-8914-a6e0964767f1",
   "metadata": {},
   "source": [
    "Passing the `state` is optional, if not provided then a default state is used.\n",
    "\n",
    "Construct and display the window:"
   ]
  },
  {
   "cell_type": "code",
   "execution_count": null,
   "id": "06fea95b-40b8-46af-88b3-53fe6f1776f8",
   "metadata": {},
   "outputs": [],
   "source": [
    "window = ApertureBuilder.using(ctx, ds, state=state)\n",
    "window.layout()"
   ]
  },
  {
   "cell_type": "markdown",
   "id": "28073126-fa16-4bd1-83b8-1fbadee3c173",
   "metadata": {},
   "source": [
    "Extract the current state of the parameters from the window:"
   ]
  },
  {
   "cell_type": "code",
   "execution_count": null,
   "id": "9518b1fb-f454-42e8-98df-b8bfacd6a436",
   "metadata": {},
   "outputs": [],
   "source": [
    "window.state"
   ]
  }
 ],
 "metadata": {
  "kernelspec": {
   "display_name": "Python 3 (ipykernel)",
   "language": "python",
   "name": "python3"
  },
  "language_info": {
   "codemirror_mode": {
    "name": "ipython",
    "version": 3
   },
   "file_extension": ".py",
   "mimetype": "text/x-python",
   "name": "python",
   "nbconvert_exporter": "python",
   "pygments_lexer": "ipython3",
   "version": "3.11.6"
  }
 },
 "nbformat": 4,
 "nbformat_minor": 5
}
