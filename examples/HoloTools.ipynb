{
 "cells": [
  {
   "cell_type": "markdown",
   "id": "d13ee95e-720f-4d55-b487-b142ca7752cd",
   "metadata": {
    "panel-layout": {
     "height": 122.71875,
     "visible": true,
     "width": 100
    }
   },
   "source": [
    "# Holography Tools prototype\n",
    "\n",
    "Demonstrates the prototype holo tools GUI panels\n",
    "\n",
    "This currently relies on the branch https://github.com/sk1p/LiberTEM-holo/tree/core-reconstr-changes, uncomment to install:"
   ]
  },
  {
   "cell_type": "code",
   "execution_count": null,
   "id": "0579f89f-bb99-4c33-beb4-e73f1e76433f",
   "metadata": {},
   "outputs": [],
   "source": [
    "# !pip -q install -q git+https://github.com/sk1p/LiberTEM-holo.git@core-reconstr-changes"
   ]
  },
  {
   "cell_type": "code",
   "execution_count": null,
   "id": "b504861b-7a1a-467d-9a7b-20679cbcee63",
   "metadata": {},
   "outputs": [],
   "source": [
    "import numpy as np\n",
    "import panel as pn\n",
    "import libertem.api as lt"
   ]
  },
  {
   "cell_type": "code",
   "execution_count": null,
   "id": "1ab883e4-96ab-4d8c-80cc-aa17fcc4ed86",
   "metadata": {},
   "outputs": [],
   "source": [
    "from libertem_ui.ui_context import UIContext\n",
    "from libertem_ui.live_plot import ApertureFigure"
   ]
  },
  {
   "cell_type": "markdown",
   "id": "3fedf988-ab0b-4cb9-81ea-300bc160fe54",
   "metadata": {
    "panel-layout": {
     "height": 85.390625,
     "visible": true,
     "width": 100
    }
   },
   "source": [
    "## Data\n",
    "\n",
    "Build a fake holo stack from some `skimage` datasets, with drift and noise and phase offset"
   ]
  },
  {
   "cell_type": "code",
   "execution_count": null,
   "id": "d7783a53-9c8c-40c0-89f5-72f10c4c6db3",
   "metadata": {},
   "outputs": [],
   "source": [
    "from libertem_holo.base.generate import hologram_frame\n",
    "from skimage.data import cat, gravel, astronaut\n",
    "from skimage.transform import resize, rotate"
   ]
  },
  {
   "cell_type": "code",
   "execution_count": null,
   "id": "035c8c4c-7faf-4cd6-b5b4-0d193c3517b7",
   "metadata": {},
   "outputs": [],
   "source": [
    "shape = (512, 512)\n",
    "angle = 30.  # np.random.uniform(0, 360)\n",
    "sampling = 5.5  # np.random.uniform(4, 5)\n",
    "frames = []\n",
    "drift = np.asarray((-3, 5))\n",
    "border = 48\n",
    "border_s = np.s_[border:-border, border:-border]\n",
    "gen_phase_offsets = np.random.uniform(-1, 1, size=(4,))\n",
    "gen_phase_offsets[0] = 0.\n",
    "for c in range(4):\n",
    "    _drift = np.round(drift * np.asarray((c, np.sqrt(c)))).astype(int)\n",
    "    amp = resize(cat()[..., 0] / 255, shape)\n",
    "    phase = (resize(gravel()[:128, :128] / 255, amp.shape, order=2) - 0.5) * 3 * np.pi\n",
    "    phase += gen_phase_offsets[c]\n",
    "    amp = np.roll(amp, _drift, axis=(0, 1))\n",
    "    phase = np.roll(phase, _drift, axis=(0, 1))\n",
    "    amp = amp[border_s]\n",
    "    phase = phase[border_s]\n",
    "    frames.append(hologram_frame(amp, phase, visibility=0.2, sampling=sampling, f_angle=angle, gaussian_noise=0.5, poisson_noise=0.03))\n",
    "frames = np.asarray(frames).astype(np.float32)"
   ]
  },
  {
   "cell_type": "markdown",
   "id": "3669b0cd-393f-4c67-a965-7cf7ec24c310",
   "metadata": {
    "panel-layout": {
     "height": 51.140625,
     "visible": true,
     "width": 100
    }
   },
   "source": [
    "Display the generated wave amplitude + phase:"
   ]
  },
  {
   "cell_type": "code",
   "execution_count": null,
   "id": "1a27912d-6f25-42cb-9a71-5298a0b9c967",
   "metadata": {
    "panel-layout": {
     "height": 566,
     "visible": true,
     "width": 100
    }
   },
   "outputs": [],
   "source": [
    "left = ApertureFigure.new(amp, title=\"amp\")\n",
    "right = ApertureFigure.new(phase, title=\"phase\")\n",
    "pn.Row(left.layout, right.layout)"
   ]
  },
  {
   "cell_type": "markdown",
   "id": "6943176c-509f-43cc-a664-1de5b39bc476",
   "metadata": {
    "panel-layout": {
     "height": 50.796875,
     "visible": true,
     "width": 100
    }
   },
   "source": [
    "## Aperture Builder\n",
    "\n",
    "This panel is used to define an aperture to extract the sideband and reconstruct the wavefront. It allows viewing the stack images and their FFTs, interactively placing the aperture and viewing the reconstruction for the displayed image and parameters. "
   ]
  },
  {
   "cell_type": "code",
   "execution_count": null,
   "id": "90033a3d-cfb6-4aec-a4f1-9c09c77bb673",
   "metadata": {},
   "outputs": [],
   "source": [
    "from libertem_ui.applications.holography.panels import ApertureBuilder, ApertureConfig"
   ]
  },
  {
   "cell_type": "markdown",
   "id": "42e5bff7-386e-4d3c-8ece-89da37b2dd4b",
   "metadata": {
    "panel-layout": {
     "height": 50.796875,
     "visible": true,
     "width": 100
    }
   },
   "source": [
    "The initial state of the parameters can be extracted and loaded into the window via a `NamedTuple`:"
   ]
  },
  {
   "cell_type": "code",
   "execution_count": null,
   "id": "1ba38ce2-ec4d-4cb4-8a41-f13e1c881f2a",
   "metadata": {},
   "outputs": [],
   "source": [
    "state = ApertureConfig(sb_pos=(142, 170), radius=44.1, window_size=(94, 94), ap_but_order=7)"
   ]
  },
  {
   "cell_type": "markdown",
   "id": "d3a927ee-3d6c-4e53-8914-a6e0964767f1",
   "metadata": {
    "panel-layout": {
     "height": 81.28125,
     "visible": true,
     "width": 100
    }
   },
   "source": [
    "Passing the `state` is optional, if not provided then a default state is used.\n",
    "\n",
    "Workflow / Interactions:\n",
    "\n",
    "The left column is used to define the sideband aperture and view it atop each image in the stack. The right column shows the reconstruction steps (aperture, crop from FFT and reconstructed amplitude / phase).\n",
    "\n",
    "General:\n",
    "- The `σ` button on each plot toolbar applies intensity scaling based on the image standard deviation. This improves image contrast. Sometimes image load with an invalid colormap and clicking this icon corrects the issue.\n",
    "- The 'sliders' icon opens a plot toolbox to manually adjust the colormap / scale.\n",
    "- The general tools on the plot toolbar allow zooming / panning / reset / etc.\n",
    "- Other tools are sometimes available here, for drawing / editing / selecting annotations and data. Click these to activate them.\n",
    "\n",
    "*Left column:*\n",
    "- `Image` / `FFT` selector: display the current frame as image or FFT\n",
    "- `Display channel` slider: change the displayed image\n",
    "- `FFT` mode selected: Use the `point select tool` to drag the sideband (circle) annotation\n",
    "- `Aperture radius` and `Window size` sliders: When in FFT display, adjust to change the aperture size parameters\n",
    "- `Estimate SB` / `Lower / Upper` etc: Automatically estimate the sideband position and update the displays\n",
    "\n",
    "*Right column:*\n",
    "- `Aperture` / `Crop` / `Reconstruction` selector: display the relevant view using the current parameters\n",
    "- `Amplitude` / `Phase` selector: when displaying the reconstruction show either the amplitude or phase image\n",
    "- `Unwrap` button: when displaying the phase image, swap this for the unwrapped phase image (temporary)\n",
    "- `Aperture type` and `Order` selector: choose the aperture function and associated parameters"
   ]
  },
  {
   "cell_type": "code",
   "execution_count": null,
   "id": "06fea95b-40b8-46af-88b3-53fe6f1776f8",
   "metadata": {
    "panel-layout": {
     "height": 694.375,
     "visible": true,
     "width": 100
    }
   },
   "outputs": [],
   "source": [
    "window = ApertureBuilder.using(frames, state=state)\n",
    "window.layout()"
   ]
  },
  {
   "cell_type": "markdown",
   "id": "28073126-fa16-4bd1-83b8-1fbadee3c173",
   "metadata": {
    "panel-layout": {
     "height": 51.140625,
     "visible": true,
     "width": 100
    }
   },
   "source": [
    "Extract the current state of the parameters from the window:"
   ]
  },
  {
   "cell_type": "code",
   "execution_count": null,
   "id": "9518b1fb-f454-42e8-98df-b8bfacd6a436",
   "metadata": {
    "panel-layout": {
     "height": 27.140625,
     "visible": true,
     "width": 100
    }
   },
   "outputs": [],
   "source": [
    "window.state"
   ]
  },
  {
   "cell_type": "markdown",
   "id": "fe5d3c1e-7db4-4086-b081-2e5f98daa251",
   "metadata": {
    "panel-layout": {
     "height": 113.53125,
     "visible": true,
     "width": 100
    }
   },
   "source": [
    "## Reconstruct\n",
    "\n",
    "The window state (`ApertureConfig`) can then be passed to LiberTEM functions to reconstruct the whole stack, optionally with a reference stack.\n",
    "\n",
    "*TODO*"
   ]
  },
  {
   "cell_type": "code",
   "execution_count": null,
   "id": "91cf0c3e-bf41-41dc-983e-0509da0bbf62",
   "metadata": {
    "panel-layout": {
     "height": 0,
     "visible": true,
     "width": 100
    }
   },
   "outputs": [],
   "source": [
    "state = window.state\n",
    "\n",
    "aperture = window._data.get_aperture(\n",
    "    state.ap_type,\n",
    "    state.radius,\n",
    "    state.window_size,\n",
    "    order=state.ap_but_order,\n",
    ")\n",
    "fft_crops = np.stack(\n",
    "    [window._data.get_crop(idx, *state.sb_pos, aperture) for idx in range(window._data.stack_len)],\n",
    "    axis=0,\n",
    ")\n",
    "reconstruction = np.fft.ifft2(fft_crops) * np.prod(window._data.sig_shape)\n",
    "print(reconstruction.shape, reconstruction.dtype)"
   ]
  },
  {
   "cell_type": "markdown",
   "id": "95dafa17-89fc-4dae-bc0c-dbd84b89b4a5",
   "metadata": {
    "panel-layout": {
     "height": 50.796875,
     "visible": true,
     "width": 100
    }
   },
   "source": [
    "## Align and average stack\n",
    "\n",
    "Once reconstructed, the `StackAligner` panel is used to align the stack before averaging the wavefront images. The panel provides a automatic alignment on the whole image or on subregions, as well as manual alignment via mouse interaction (clicking the arrows, dragging the moving image or dragging the scatter plot markers). Images can also be marked as \"to-skip\" if their reconstruction is incorrect."
   ]
  },
  {
   "cell_type": "code",
   "execution_count": null,
   "id": "5a4b6e1c-9f22-4daf-ad29-9067fe6c7dfa",
   "metadata": {},
   "outputs": [],
   "source": [
    "from libertem_ui.applications.holography.panels import StackAlignWindow, AlignState"
   ]
  },
  {
   "cell_type": "markdown",
   "id": "3a383e9d-3c9b-4176-9fbb-96ed73a68bc0",
   "metadata": {},
   "source": [
    "Again we can pre-load shift values into the panel:"
   ]
  },
  {
   "cell_type": "code",
   "execution_count": null,
   "id": "1bd0f24a-f956-4f87-a202-328207aa8e38",
   "metadata": {},
   "outputs": [],
   "source": [
    "state = AlignState(\n",
    "    static_idx=0,\n",
    "    shifts_y=np.asarray([0.  , 0.65, 1.15, 2.15]),\n",
    "    shifts_x=np.asarray([ 0.  , -1.1 , -1.7 , -1.95]),\n",
    "    skip_frame=np.asarray([False, False, False, False])\n",
    ")"
   ]
  },
  {
   "cell_type": "markdown",
   "id": "909bdf14-3d26-4004-9a38-3a25870b55b4",
   "metadata": {},
   "source": [
    "Workflow / Interactions:\n",
    "\n",
    "The interface is an image viewer with static image + moving/active image on the left, and a scatter plot of image shifts on the right. By adjusting the transparency on the image viewer it is possible to evaluate the correctness of the shift values.\n",
    "\n",
    "*Left column:*\n",
    "- `Prev` / `Next` / `Align Image` slider: choose the image to be 'active' in the alignment, relative to the fixed reference image in the stack\n",
    "- `Clear ROI` button: if any ROI annotations are on the image, delete these\n",
    "- `Lasso` tool: Select this then click, drag and release to shift the currently active image\n",
    "- `Static alpha`, `Align alpha`, `Toggle alpha`, `Equal alpha`: Control the transparency of the static reference and the currently selected image\n",
    "- `Cycle alpha`: automatically cycle the transparency of the two images when checked\n",
    "\n",
    "*Right column:*\n",
    "- `Skip image` checkbox: Mark the current image as \"skipped\", i.e. ignore in downstream processing (no impact on this GUI)\n",
    "- Arrow keys and `0.1 / 1 / 10` selector: shift the currently selected image by this number of pixels\n",
    "- Double click on a scatter point: select the image nearest the mouse (blue when selected, red if unselected, grey if skipped, black of static / reference)\n",
    "- With 'points select' tool active in the plot toolbar: drag a scatter plot point to move the anchor of the active image\n",
    "- `Auto-align` buttons: automatically align either all or the currently active image using the current parameters.\n",
    "- `Reset` buttons: reset to 0 the shift of either all or the currently active image\n",
    "- `Align option` selector:\n",
    "  - `Whole image`: align using the whole image\n",
    "  - `Subregion`: align using a single rectangular subregion of the image. Set this subregion by using the 'Rectangle draw' tool on the left figure. Long press to begin, long press to end drawing a rectangle. Only the first region is used (`Clear ROI` to restart).\n",
    "  - `Arb. mask`: align using masked cross-correlation on an arbitrary mask. Combine rectangular regions as before with polygon regions drawn with the Polgon draw / edit tools on the left figure.\n",
    "- `Relative ROI` checkbox: when computing the masks / regions to align on take the current shift values into account."
   ]
  },
  {
   "cell_type": "code",
   "execution_count": null,
   "id": "ef80dec6-c751-45c8-baa2-28026ae3c927",
   "metadata": {
    "panel-layout": {
     "height": 673.234375,
     "visible": true,
     "width": 100
    }
   },
   "outputs": [],
   "source": [
    "align_window = StackAlignWindow.using(\n",
    "    np.abs(reconstruction), state=state, static_idx=0\n",
    ")\n",
    "align_window.layout()"
   ]
  },
  {
   "cell_type": "markdown",
   "id": "2321fe6e-20b0-41db-b21f-51a5c1e8c3b0",
   "metadata": {},
   "source": [
    "The state of the alignment panel can be extracted using the `.state` attribute, the return of which can be passed to LiberTEM to perform the full alignment and averaging."
   ]
  },
  {
   "cell_type": "code",
   "execution_count": null,
   "id": "5fa718f7-9e74-4292-bce9-ac08d4ee2052",
   "metadata": {
    "panel-layout": {
     "height": 27.140625,
     "visible": true,
     "width": 100
    }
   },
   "outputs": [],
   "source": [
    "align_window.state"
   ]
  },
  {
   "cell_type": "markdown",
   "id": "b34d433e-125b-4a29-8ad8-1709c5c88165",
   "metadata": {},
   "source": [
    "To correctly average the wavefronts we must match the phase of the sideband carrier frequency across the stack. This can be done in the FFT domain by phase shifting the `[0,0]` pixel of each crop to match that of the first frame. *TODO check this with someone who knows holography!*\n",
    "\n",
    "Calculate the phase offsets, these should approximately match the phase offsets we applied to each frame during data generation:"
   ]
  },
  {
   "cell_type": "code",
   "execution_count": null,
   "id": "ed11a579-21fc-4781-b7fe-d58dc83c55a6",
   "metadata": {},
   "outputs": [],
   "source": [
    "phase_offset_carrier = np.angle(fft_crops[:, 0, 0]) - np.angle(fft_crops[0, 0, 0])\n",
    "print(f\"Computed phase difference: {phase_offset_carrier}\")\n",
    "print(f\"Actual phase difference: {gen_phase_offsets}\")"
   ]
  },
  {
   "cell_type": "markdown",
   "id": "d79de741-adcc-43e6-ba41-f547931cd840",
   "metadata": {},
   "source": [
    "We can now apply this phase correction and the image shifts in the Fourier domain before inverting again. Because the image is rolled in a periodic way by `ndimage.fourier_shift` the edges of the shifted stack are invalid - this can be solved by simple cropping, or by masking out invalid pixels and computing the mean from only the valid layers (more complex)."
   ]
  },
  {
   "cell_type": "code",
   "execution_count": null,
   "id": "b1f0709e-212e-43a1-9a9d-051908ed8375",
   "metadata": {},
   "outputs": [],
   "source": [
    "# TODO This needs to be validated for all cases !!!\n",
    "yx_shifts = np.stack((\n",
    "    align_window.state.shifts_y,\n",
    "    align_window.state.shifts_x,\n",
    "), axis=1)\n",
    "\n",
    "def ceil_away(val):\n",
    "    return (np.sign(val) + np.trunc(val)).astype(int)\n",
    "\n",
    "miny, minx = ceil_away(yx_shifts.min(axis=0))\n",
    "maxy, maxx = ceil_away(yx_shifts.max(axis=0))\n",
    "print(miny, maxy, minx, maxx)\n",
    "_, h, w = reconstruction.shape\n",
    "valid_crop = np.s_[\n",
    "    :,\n",
    "    max(0, maxy):h + min(miny, 0),\n",
    "    max(0, maxx):w + min(minx, 0),\n",
    "]\n",
    "\n",
    "print(valid_crop)"
   ]
  },
  {
   "cell_type": "markdown",
   "id": "de4d4c29-f660-4867-8bf4-0ea666e59158",
   "metadata": {},
   "source": [
    "Now that we have the valid crop, we can align and average. (This should be done inside an LT function):"
   ]
  },
  {
   "cell_type": "code",
   "execution_count": null,
   "id": "058c4460-01e1-4ae5-bfba-fba1a512c800",
   "metadata": {},
   "outputs": [],
   "source": [
    "# TODO image skipping\n",
    "\n",
    "from scipy import ndimage\n",
    "from skimage.restoration import unwrap_phase\n",
    "\n",
    "recon_shifted = np.zeros_like(reconstruction)\n",
    "for idx, (fft_crop, phase_corr) in enumerate(zip(fft_crops.copy(), phase_offset_carrier)):\n",
    "    fft_crop[0, 0] *= np.exp(-1j * phase_corr)\n",
    "    shift = align_window.state.shifts_y[idx], align_window.state.shifts_x[idx]\n",
    "    shifted = ndimage.fourier_shift(fft_crop, shift=shift)\n",
    "    recon_shifted[idx, ...] = np.fft.ifft2(shifted) * np.prod(shape)\n",
    "\n",
    "avg_recon = np.mean(\n",
    "    recon_shifted[valid_crop],\n",
    "    axis=0,\n",
    ")"
   ]
  },
  {
   "cell_type": "markdown",
   "id": "c22908bb-f377-4f02-895b-964703aaafe5",
   "metadata": {},
   "source": [
    "Display the results for clarity:"
   ]
  },
  {
   "cell_type": "code",
   "execution_count": null,
   "id": "5ea7aa7d-a6d8-43b2-80e5-2e7318fd0fd7",
   "metadata": {},
   "outputs": [],
   "source": [
    "mean_phase_image_uc = np.angle(\n",
    "    np.mean(\n",
    "        reconstruction,\n",
    "        axis=0\n",
    "    )\n",
    ")\n",
    "mean_phase_image = np.angle(avg_recon)\n",
    "pn.Row(\n",
    "    ApertureFigure.new(\n",
    "        unwrap_phase(mean_phase_image_uc),\n",
    "        title=\"uncorrected + unwrapped\",\n",
    "    ).layout,\n",
    "    ApertureFigure.new(\n",
    "        unwrap_phase(mean_phase_image),\n",
    "        title=\"corrected + unwrapped\",\n",
    "    ).layout,\n",
    ")"
   ]
  },
  {
   "cell_type": "markdown",
   "id": "9664aa02-27d0-4ca6-9bbc-96bbd215c4fb",
   "metadata": {
    "panel-layout": {
     "height": 50.796875,
     "visible": true,
     "width": 100
    }
   },
   "source": [
    "## Phase unwrap tool\n",
    "\n",
    "Once we have averaged the wavefronts we can unwrap the phase information to get hopefully continuous phase profiles. Normally phase unwrapping is a simple function but this panel compares two algorithms and the ability to offset the raw phase image before unwrapping:"
   ]
  },
  {
   "cell_type": "code",
   "execution_count": null,
   "id": "2ad4f0d0-bacb-47b3-a31a-8eae3e2e152c",
   "metadata": {},
   "outputs": [],
   "source": [
    "from libertem_ui.applications.holography.panels import PhaseUnwrapWindow"
   ]
  },
  {
   "cell_type": "markdown",
   "id": "ce861a9c-9b84-4fcd-9331-1c563c7cac5b",
   "metadata": {},
   "source": [
    "Workflow / Interactions:\n",
    "\n",
    "*Left column:*\n",
    "- `Lasso` tool: Select this then click, drag and release to draw an arbitrary region where the phase unwrapping should begin (only with \"quality-guided\" unwrapping\n",
    "\n",
    "*Right column:*\n",
    "- `Run` button: Run the currently selected unwrapping algorithm with the current parameters / ROI\n",
    "- `Reset` button: Clear the current unwrapped image, offset and ROI\n",
    "- `Method` select: Choose the unwrapping algorithm used\n",
    "  - `Reliability-guided` uses the `scikit-image` function `unwrap_phase`\n",
    "  - `Quality-guided` uses an implementation of flood filling following a path of minimum local variance in the phase image\n",
    "- `Offset phase` slider: roll the phase image around the period, this is used as starting point when unwrapping"
   ]
  },
  {
   "cell_type": "markdown",
   "id": "f73d562e-6f59-444b-8a05-80f3633eff5d",
   "metadata": {
    "scrolled": true
   },
   "source": [
    "phase_window = PhaseUnwrapWindow.using(\n",
    "    image=np.angle(avg_recon),\n",
    ")\n",
    "phase_window.layout()"
   ]
  },
  {
   "cell_type": "markdown",
   "id": "f24ee95b-9e18-4cf2-9f89-286bc660024f",
   "metadata": {},
   "source": [
    "The \"quality guided\" algorithm implementation does allow the starting region to be set using the lasso selection tool. It is unclear at this time if this feature is beneficial!\n",
    "\n",
    "This panel is a work in progress until a more interactive unwrapping approach is developed."
   ]
  },
  {
   "cell_type": "markdown",
   "id": "6415bd18-705a-4767-ba44-3db6d144d49f",
   "metadata": {
    "panel-layout": {
     "height": 50.796875,
     "visible": true,
     "width": 100
    }
   },
   "source": [
    "## Point alignment tool\n",
    "\n",
    "The points alignment tool lets the user define two corresponding pointsets on a pair of images for computing a transform matrix (or other image registration approach). At this time the entry is purely manual, but could be semi-automated by seeding the pointsets with SIFT or similar (with appropriate thresholds)."
   ]
  },
  {
   "cell_type": "code",
   "execution_count": null,
   "id": "a88b1994-9193-47b8-ac39-5e01c243913d",
   "metadata": {},
   "outputs": [],
   "source": [
    "from libertem_ui.applications.holography.panels import PointsAlignWindow"
   ]
  },
  {
   "cell_type": "markdown",
   "id": "54ae5db6-59e8-4573-b46b-938171093cd8",
   "metadata": {},
   "source": [
    "Workflow / Interactions:\n",
    "\n",
    "*Left column:*\n",
    "- The figure contains the static reference image and overlaid this is the transformed moving image (initially transparent)\n",
    "- `Overlay alpha` slider / 'Toggle alpha` button: adjust the transparency of the overlay image\n",
    "- With the `point tool` selected: double click on the figure to create points in the image, click and drag these points to position them. Each point created will be mirrored in the right column, and vice-versa.\n",
    "- `Transformation type` select: choose the transformation matrix to calculate from the two corresponding pointsets\n",
    "- `Run` button: Compute the selected transform from the pointsets and update the overlay image\n",
    "- `Clear points` button: Clear the current pointsets\n",
    "\n",
    "*Right column:*\n",
    "- With the `point tool` selected: double click on the figure to create points in the image, click and drag these points to position them. Each point created will be mirrored in the left column, and vice-versa. Position the points on corresponding patches of the image.\n",
    "- Transformation matrix display: show the current transformation matrix, or error messages, if any"
   ]
  },
  {
   "cell_type": "code",
   "execution_count": null,
   "id": "40b9f82c-f7ef-4119-a70a-dbd0a78cc534",
   "metadata": {
    "panel-layout": {
     "height": 664.375,
     "visible": true,
     "width": 100
    }
   },
   "outputs": [],
   "source": [
    "points_window = PointsAlignWindow.using(\n",
    "    static=gravel()[256:256+128, 256:256+128],\n",
    "    moving=rotate(gravel(), 20)[256:256+128, 256:256+128],\n",
    ")\n",
    "points_window.layout()"
   ]
  },
  {
   "cell_type": "markdown",
   "id": "b8e99f70-538a-44ea-98a6-a9e1b5228efc",
   "metadata": {},
   "source": [
    "The pointsets can be extracted using the `.state` attribute. The last-computed transformation matrix is also available, though this does not necessarily match the current 'live' pointset."
   ]
  },
  {
   "cell_type": "code",
   "execution_count": null,
   "id": "2fbad7a1-240f-4d35-a1b9-2e2f72a6759d",
   "metadata": {},
   "outputs": [],
   "source": [
    "points_window.state"
   ]
  },
  {
   "cell_type": "code",
   "execution_count": null,
   "id": "9697a103-e2e6-4edc-b74a-bf289506ccef",
   "metadata": {},
   "outputs": [],
   "source": []
  }
 ],
 "metadata": {
  "kernelspec": {
   "display_name": "Python 3 (ipykernel)",
   "language": "python",
   "name": "python3"
  },
  "language_info": {
   "codemirror_mode": {
    "name": "ipython",
    "version": 3
   },
   "file_extension": ".py",
   "mimetype": "text/x-python",
   "name": "python",
   "nbconvert_exporter": "python",
   "pygments_lexer": "ipython3",
   "version": "3.11.6"
  },
  "panel-cell-order": [
   "d13ee95e-720f-4d55-b487-b142ca7752cd",
   "3fedf988-ab0b-4cb9-81ea-300bc160fe54",
   "3669b0cd-393f-4c67-a965-7cf7ec24c310",
   "1a27912d-6f25-42cb-9a71-5298a0b9c967",
   "057cadba-21a0-4265-a61e-417ef85bb789",
   "2294dd32-dfdd-4b02-b1c7-c1e4472208c9",
   "d3a927ee-3d6c-4e53-8914-a6e0964767f1",
   "06fea95b-40b8-46af-88b3-53fe6f1776f8",
   "28073126-fa16-4bd1-83b8-1fbadee3c173",
   "9518b1fb-f454-42e8-98df-b8bfacd6a436",
   "fe5d3c1e-7db4-4086-b081-2e5f98daa251",
   "91cf0c3e-bf41-41dc-983e-0509da0bbf62",
   "95dafa17-89fc-4dae-bc0c-dbd84b89b4a5",
   "ef80dec6-c751-45c8-baa2-28026ae3c927",
   "5fa718f7-9e74-4292-bce9-ac08d4ee2052",
   "9664aa02-27d0-4ca6-9bbc-96bbd215c4fb",
   "6415bd18-705a-4767-ba44-3db6d144d49f",
   "40b9f82c-f7ef-4119-a70a-dbd0a78cc534",
   "f6760912-f307-4bea-bcba-20199eae4123"
  ]
 },
 "nbformat": 4,
 "nbformat_minor": 5
}
