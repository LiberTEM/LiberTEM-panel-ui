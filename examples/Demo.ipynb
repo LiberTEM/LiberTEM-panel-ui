{
 "cells": [
  {
   "cell_type": "markdown",
   "id": "26b54279",
   "metadata": {},
   "source": [
    "# LiberTEM-panel-ui demo\n",
    "\n",
    "This notebook demonstrates how to use the features of `LiberTEM-panel-ui` for interactive offline data processing with LiberTEM.\n",
    "\n",
    "This demo displays best in `JupyterLab` as it requires the full width of the browser window. If you are using a classic Notebook you can expand the width by calling `libertem_ui.utils.notebook_tools.notebook_fullwidth()` (uncomment the next cell):"
   ]
  },
  {
   "cell_type": "code",
   "execution_count": null,
   "id": "64e90b40",
   "metadata": {},
   "outputs": [],
   "source": [
    "# from libertem_ui.utils.notebook_tools import notebook_fullwidth\n",
    "# notebook_fullwidth()"
   ]
  },
  {
   "cell_type": "code",
   "execution_count": null,
   "id": "22a3b511",
   "metadata": {},
   "outputs": [],
   "source": [
    "import pathlib\n",
    "import numpy as np"
   ]
  },
  {
   "cell_type": "markdown",
   "id": "08a9b29c",
   "metadata": {},
   "source": [
    "## Create LiberTEM resources and data\n",
    "\n",
    "The GUI tools work in combination with a LiberTEM `Context` object `DataSet` object, which describe how LiberTEM will carry out computations and load data, respectively.\n",
    "\n",
    "Here we will create a `Context` backed by 4 Dask workers, and an artificial dataset `DataSet` backed by a *numpy* array file on disk (`.npy` file)."
   ]
  },
  {
   "cell_type": "code",
   "execution_count": null,
   "id": "d14e2d93",
   "metadata": {},
   "outputs": [],
   "source": [
    "import libertem.api as lt"
   ]
  },
  {
   "cell_type": "code",
   "execution_count": null,
   "id": "884c645a",
   "metadata": {},
   "outputs": [],
   "source": [
    "ctx = lt.Context.make_with(cpus=4)"
   ]
  },
  {
   "cell_type": "markdown",
   "id": "6daaa54d",
   "metadata": {},
   "source": [
    "We can generate some test data using an included util function, or load it from disk if already present:"
   ]
  },
  {
   "cell_type": "code",
   "execution_count": null,
   "id": "37845e8e",
   "metadata": {},
   "outputs": [],
   "source": [
    "data_path = pathlib.Path('test_data.npy')"
   ]
  },
  {
   "cell_type": "code",
   "execution_count": null,
   "id": "6d8463cf",
   "metadata": {},
   "outputs": [],
   "source": [
    "if not data_path.is_file():\n",
    "    from libertem_ui.utils.data import demo_dataset\n",
    "    np.save(data_path, demo_dataset())"
   ]
  },
  {
   "cell_type": "code",
   "execution_count": null,
   "id": "9d456027",
   "metadata": {},
   "outputs": [],
   "source": [
    "ds = ctx.load('npy', path=data_path)"
   ]
  },
  {
   "cell_type": "markdown",
   "id": "dbfbefe2",
   "metadata": {},
   "source": [
    "These data have the following shape:"
   ]
  },
  {
   "cell_type": "code",
   "execution_count": null,
   "id": "054c5906",
   "metadata": {},
   "outputs": [],
   "source": [
    "ds.shape"
   ]
  },
  {
   "cell_type": "markdown",
   "id": "dec5e5a8",
   "metadata": {},
   "source": [
    "## Standalone analyses\n",
    "\n",
    "The simplest way to get started with `LiberTEM-panel-ui` is to launch a standalone analysis window using a `ctx` and `ds`:"
   ]
  },
  {
   "cell_type": "code",
   "execution_count": null,
   "id": "dc98106e",
   "metadata": {},
   "outputs": [],
   "source": [
    "from libertem_ui.windows.imaging import VirtualDetectorWindow"
   ]
  },
  {
   "cell_type": "code",
   "execution_count": null,
   "id": "7f8a3a9c",
   "metadata": {},
   "outputs": [],
   "source": [
    "detector_window = VirtualDetectorWindow.using(ctx, ds)"
   ]
  },
  {
   "cell_type": "markdown",
   "id": "fa588cf8",
   "metadata": {},
   "source": [
    "Once created, the window must be displayed using the `.layout()` method as the final line of a cell:"
   ]
  },
  {
   "cell_type": "code",
   "execution_count": null,
   "id": "29ff6625",
   "metadata": {},
   "outputs": [],
   "source": [
    "detector_window.layout()"
   ]
  },
  {
   "cell_type": "markdown",
   "id": "b7118796",
   "metadata": {},
   "source": [
    "From this window we can run all standard virtual detector analyses on this dataset. The mode can be selected from the buttons on the left, and the analysis run using the Run/Stop buttons at the top of the pane.\n",
    "\n",
    "The detector widget is draggable to set the centrepoint, and the orange cursor in the navigation figure is draggable to select which frame to display in the signal figure.\n",
    "\n",
    "Both figures can have their display options adjusted by bringing up their floating controls panel (option icon in the figure toolbar). The navigation panel also supports drawing a region of interest (ROI) using the drawing tools in the figure toolbar."
   ]
  },
  {
   "cell_type": "markdown",
   "id": "ba019215",
   "metadata": {},
   "source": [
    "## Linked windows\n",
    "\n",
    "It is possible to link two or more analysis windows such that they can share results (for display purposes or for more complex analyses). The dataset and context are common to both windows."
   ]
  },
  {
   "cell_type": "code",
   "execution_count": null,
   "id": "0ad84ec4",
   "metadata": {},
   "outputs": [],
   "source": [
    "from libertem_ui.windows.imaging import FrameImagingWindow"
   ]
  },
  {
   "cell_type": "code",
   "execution_count": null,
   "id": "565325cc",
   "metadata": {},
   "outputs": [],
   "source": [
    "imaging_window = FrameImagingWindow.linked_to(detector_window)\n",
    "imaging_window.layout()"
   ]
  },
  {
   "cell_type": "markdown",
   "id": "2daf8b1d",
   "metadata": {},
   "source": [
    "When running analysis in the `FrameImagingWindow` you have the option to display its results in the `VirtualDetectorWindow` by clicking on the `Display` button in the header (and vice versa)."
   ]
  },
  {
   "cell_type": "markdown",
   "id": "f5a891fb",
   "metadata": {},
   "source": [
    "## Exporting / Using results\n",
    "\n",
    "Results generated by a window can be stored in its `ResultsManager`, which is also shared between windows where these have been linked. The `.results_manager` property of a window allows us to query the manager for existing results, as well as display an interactive results browser where we can search for and preview results."
   ]
  },
  {
   "cell_type": "code",
   "execution_count": null,
   "id": "e5a04a72",
   "metadata": {},
   "outputs": [],
   "source": [
    "imaging_window.results_manager.layout()"
   ]
  },
  {
   "cell_type": "markdown",
   "id": "80ef4c63",
   "metadata": {},
   "source": [
    "Results can be previewed using the 🔍 icon, and deleted using the ✕ button. The preview page for each results contains a view of the metadata for that result, as well as a download button to save the result to disk.\n",
    "\n",
    "To access a given result you need to access it through its `ident` string, displayed in the manager table and on the preview page:"
   ]
  },
  {
   "cell_type": "code",
   "execution_count": null,
   "id": "0ea46e79",
   "metadata": {},
   "outputs": [],
   "source": [
    "try:\n",
    "    ident: str\n",
    "    rc = imaging_window.results_manager.get_result_container(ident)\n",
    "except NameError:\n",
    "    # Result doesn't exist yet!\n",
    "    pass"
   ]
  },
  {
   "cell_type": "markdown",
   "id": "39a2af1c",
   "metadata": {},
   "source": [
    "The object returned is a `ResultContainer` which holds metadata and a `.show()` method to preview the result in a standalone cell. The actual result object can be found on the `.data` property."
   ]
  },
  {
   "cell_type": "markdown",
   "id": "e2b28f5d",
   "metadata": {},
   "source": [
    "## `UIContext`, a window manager for analyses\n",
    "\n",
    "The `UIContext` is a system to allow dynamic creation and deletion of analysis windows in `libertem_ui`, and execute their analyses in parallel where this is supported. Windows created in a `UIContext` are automatically linked together and share results."
   ]
  },
  {
   "cell_type": "code",
   "execution_count": null,
   "id": "50df2037",
   "metadata": {},
   "outputs": [],
   "source": [
    "from libertem_ui.api import UIContext"
   ]
  },
  {
   "cell_type": "code",
   "execution_count": null,
   "id": "69b8b508",
   "metadata": {},
   "outputs": [],
   "source": [
    "ui_context = UIContext.for_offline(ctx, ds)\n",
    "ui_context.layout()"
   ]
  },
  {
   "attachments": {
    "image-2.png": {
     "image/png": "[encoded data removed]"
    }
   },
   "cell_type": "markdown",
   "id": "e7f2df1f",
   "metadata": {},
   "source": [
    "At the bottom of the cell / layout there is an `Add window` menu which allows you to add windows to the `UIContext` layout.\n",
    "\n",
    "Most windows also have a `Remove` button to remove them from the layout. Results created by a remove window remain available unless explicitly deleted in the `ui_context.results_manager`.\n",
    "\n",
    "The `UIContext` also has an inbuilt log window to report information about the analyses being run, this can be displayed by pressing the `Logs` button below the progress bar.\n",
    "\n",
    "![image-2.png](attachment:image-2.png)"
   ]
  },
  {
   "cell_type": "markdown",
   "id": "e2cca7c7",
   "metadata": {},
   "source": [
    "Pressing `Run all` queries all windows for any analyses they are ready to run, and will run all that are available in parallel. Some windows require they are run alone and so will not respond to the `Run all` button press. To disable a window from running under `Run all`, untick the `Activate` checkbox in the header.\n",
    "\n",
    "Windows can be collapsed using the `▼` button at the left of the header. Collapsed windows can still run, and must be de-activated if you need to save on computation."
   ]
  },
  {
   "cell_type": "code",
   "execution_count": null,
   "id": "a39ad62a",
   "metadata": {},
   "outputs": [],
   "source": []
  }
 ],
 "metadata": {
  "kernelspec": {
   "display_name": "Python 3 (ipykernel)",
   "language": "python",
   "name": "python3"
  },
  "language_info": {
   "codemirror_mode": {
    "name": "ipython",
    "version": 3
   },
   "file_extension": ".py",
   "mimetype": "text/x-python",
   "name": "python",
   "nbconvert_exporter": "python",
   "pygments_lexer": "ipython3",
   "version": "3.10.8"
  }
 },
 "nbformat": 4,
 "nbformat_minor": 5
}
