{
 "cells": [
  {
   "cell_type": "code",
   "execution_count": null,
   "id": "6fbb8e88-7a29-4c76-9fb8-265915a28621",
   "metadata": {},
   "outputs": [],
   "source": [
    "import panel as pn"
   ]
  },
  {
   "cell_type": "code",
   "execution_count": null,
   "id": "880b58ba-e959-40f0-ad9c-794ac22a9cca",
   "metadata": {},
   "outputs": [],
   "source": [
    "import pathlib\n",
    "import numpy as np"
   ]
  },
  {
   "cell_type": "markdown",
   "id": "38f7ce06-0e39-409e-a043-f1369c554f80",
   "metadata": {},
   "source": [
    "## Context and Data"
   ]
  },
  {
   "cell_type": "code",
   "execution_count": null,
   "id": "7eaeb69f-a5a9-49aa-9dbb-4a2e1287c2c8",
   "metadata": {},
   "outputs": [],
   "source": [
    "import libertem.api as lt\n",
    "ctx = lt.Context.make_with('inline')"
   ]
  },
  {
   "cell_type": "code",
   "execution_count": null,
   "id": "5afbffbf-7ac1-46c1-8f86-f45477d0538d",
   "metadata": {},
   "outputs": [],
   "source": [
    "data_path = pathlib.Path('test_data.npy')"
   ]
  },
  {
   "cell_type": "code",
   "execution_count": null,
   "id": "25e094c8-9c8f-4476-bb47-f27a3891b44f",
   "metadata": {},
   "outputs": [],
   "source": [
    "if not data_path.is_file():\n",
    "    from libertem_ui.utils.data import demo_dataset\n",
    "    np.save(data_path, demo_dataset())"
   ]
  },
  {
   "cell_type": "code",
   "execution_count": null,
   "id": "491c9a37-9b1b-4361-9d8f-e6b1666fc510",
   "metadata": {},
   "outputs": [],
   "source": [
    "ds = ctx.load('npy', path=data_path)"
   ]
  },
  {
   "cell_type": "markdown",
   "id": "5271674f-c7a7-44de-b40d-9a86f2533d48",
   "metadata": {},
   "source": [
    "## UIContext and Strain App"
   ]
  },
  {
   "cell_type": "code",
   "execution_count": null,
   "id": "cb11a902-b3ba-4587-8de7-92f897a7abe6",
   "metadata": {},
   "outputs": [],
   "source": [
    "from libertem_ui.api import UIContext\n",
    "from libertem_ui.applications.strain import StrainApplication"
   ]
  },
  {
   "cell_type": "code",
   "execution_count": null,
   "id": "153c7e9b-0072-42e3-8ccc-dcfa6be4b0d9",
   "metadata": {},
   "outputs": [],
   "source": [
    "ui_context = UIContext.for_offline(ctx, ds)"
   ]
  },
  {
   "cell_type": "code",
   "execution_count": null,
   "id": "d62fe103-97f3-4b07-bdb8-fb762bebdc47",
   "metadata": {},
   "outputs": [],
   "source": [
    "app = StrainApplication.construct(ui_context)"
   ]
  },
  {
   "cell_type": "code",
   "execution_count": null,
   "id": "8f23691e-2667-4c57-a418-a55173d42a1f",
   "metadata": {
    "jp-MarkdownHeadingCollapsed": true
   },
   "outputs": [],
   "source": [
    "ui_context.layout()"
   ]
  },
  {
   "cell_type": "code",
   "execution_count": null,
   "id": "fb27fe95-2d51-4567-bef7-1956ce22f360",
   "metadata": {},
   "outputs": [],
   "source": []
  }
 ],
 "metadata": {
  "kernelspec": {
   "display_name": "Python 3 (ipykernel)",
   "language": "python",
   "name": "python3"
  },
  "language_info": {
   "codemirror_mode": {
    "name": "ipython",
    "version": 3
   },
   "file_extension": ".py",
   "mimetype": "text/x-python",
   "name": "python",
   "nbconvert_exporter": "python",
   "pygments_lexer": "ipython3",
   "version": "3.11.6"
  }
 },
 "nbformat": 4,
 "nbformat_minor": 5
}
